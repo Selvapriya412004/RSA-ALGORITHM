{
  "nbformat": 4,
  "nbformat_minor": 0,
  "metadata": {
    "colab": {
      "provenance": [],
      "authorship_tag": "ABX9TyMUfCWfdHCG14w303twLZR6",
      "include_colab_link": true
    },
    "kernelspec": {
      "name": "python3",
      "display_name": "Python 3"
    },
    "language_info": {
      "name": "python"
    }
  },
  "cells": [
    {
      "cell_type": "markdown",
      "metadata": {
        "id": "view-in-github",
        "colab_type": "text"
      },
      "source": [
        "<a href=\"https://colab.research.google.com/github/Selvapriya412004/RSA-ALGORITHM/blob/main/RSA_Algorithm.ipynb\" target=\"_parent\"><img src=\"https://colab.research.google.com/assets/colab-badge.svg\" alt=\"Open In Colab\"/></a>"
      ]
    },
    {
      "cell_type": "code",
      "execution_count": 4,
      "metadata": {
        "colab": {
          "base_uri": "https://localhost:8080/"
        },
        "id": "z6HK6fzTQgsM",
        "outputId": "94f166ad-2831-4e10-94d2-018c819de30a"
      },
      "outputs": [
        {
          "output_type": "stream",
          "name": "stdout",
          "text": [
            "Encrypted message is 433\n",
            "Decrypted message is 825\n",
            "Encrypted message is 144\n",
            "Decrypted message is 144\n"
          ]
        }
      ],
      "source": [
        "from math import gcd\n",
        "\n",
        "# defining a function to perform RSA approch\n",
        "def RSA(p: int, q: int, message: int):\n",
        "    # calculating n\n",
        "    n = p * q\n",
        "\n",
        "    # calculating totient, t\n",
        "    t = (p - 1) * (q - 1)\n",
        "\n",
        "    # selecting public key, e\n",
        "    for i in range(2, t):\n",
        "        if gcd(i, t) == 1:\n",
        "            e = i\n",
        "            break\n",
        "\n",
        "    # selecting private key, d\n",
        "    j = 0\n",
        "    while True:\n",
        "        if (j * e) % t == 1:\n",
        "            d = j\n",
        "            break\n",
        "        j += 1\n",
        "\n",
        "    # performing encryption\n",
        "    ct = (message ** e) % n\n",
        "    print(f\"Encrypted message is {ct}\")\n",
        "\n",
        "    # performing decryption\n",
        "    mes = (ct ** d) % n\n",
        "    print(f\"Decrypted message is {mes}\")\n",
        "\n",
        "# Testcase - 1\n",
        "RSA(p=23, q=56, message=89)\n",
        "\n",
        "# Testcase - 2\n",
        "RSA(p=52, q=4, message=12)"
      ]
    }
  ]
}